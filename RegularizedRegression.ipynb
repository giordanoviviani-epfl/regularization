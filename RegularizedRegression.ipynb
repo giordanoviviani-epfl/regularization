{
 "cells": [
  {
   "attachments": {},
   "cell_type": "markdown",
   "metadata": {},
   "source": [
    "# Regularization"
   ]
  },
  {
   "cell_type": "code",
   "execution_count": 1,
   "metadata": {},
   "outputs": [],
   "source": [
    "import numpy as np\n",
    "import matplotlib.pyplot as plt\n",
    "import starloader as sl\n",
    "\n",
    "from custom_linear_model import PolyModel, FSModel, lstsq, L1, L2"
   ]
  },
  {
   "cell_type": "code",
   "execution_count": 2,
   "metadata": {},
   "outputs": [],
   "source": [
    "# Generate the (x, y) data\n",
    "order = 50\n",
    "npts = 100\n",
    "err = 0.01\n",
    "train_step=10\n",
    "\n",
    "np.random.seed(42)\n",
    "x_ = np.linspace(-0.5, 0.5, 1000)\n",
    "y_ = x_ + np.exp(-(x_ ** 2) / 0.0025)\n",
    "A_ = PolyModel().design_matrix(x_, order)\n",
    "w = L1(A_, y_, log_lam=0)\n",
    "x = np.linspace(-0.5, 0.5, npts)\n",
    "A = PolyModel().design_matrix(x, order)\n",
    "y = A @ w\n",
    "y += err * np.random.randn(len(x))\n",
    "\n",
    "idx_train = np.zeros(npts, dtype=bool)\n",
    "idx_train[np.arange(0, npts, train_step)] = True\n",
    "idx_train[-1] = True\n",
    "idx_test = ~idx_train\n",
    "\n",
    "x_train, y_train, x_test, y_test = x[idx_train], y[idx_train], x[idx_test], y[idx_test]"
   ]
  },
  {
   "cell_type": "code",
   "execution_count": 3,
   "metadata": {},
   "outputs": [
    {
     "data": {
      "text/plain": [
       "(11,)"
      ]
     },
     "execution_count": 3,
     "metadata": {},
     "output_type": "execute_result"
    }
   ],
   "source": [
    "PolyModel().design_matrix(x.T, 10).shape\n",
    "import pandas as pd\n",
    "df = pd.DataFrame({'x':x})\n",
    "PolyModel().design_matrix(df['x'], 10).T.shape\n",
    "x_train.shape\n",
    "y_train.shape"
   ]
  },
  {
   "cell_type": "code",
   "execution_count": 5,
   "metadata": {},
   "outputs": [
    {
     "data": {
      "application/vnd.jupyter.widget-view+json": {
       "model_id": "f648e8d783274562902e65c80be405bd",
       "version_major": 2,
       "version_minor": 0
      },
      "text/plain": [
       "Output()"
      ]
     },
     "metadata": {},
     "output_type": "display_data"
    },
    {
     "data": {
      "application/vnd.jupyter.widget-view+json": {
       "model_id": "239ff1e404e449e38099f22a5ca9f7ca",
       "version_major": 2,
       "version_minor": 0
      },
      "text/plain": [
       "HBox(children=(IntSlider(value=0, continuous_update=False, description='# orders:', layout=Layout(width='90%')…"
      ]
     },
     "metadata": {},
     "output_type": "display_data"
    }
   ],
   "source": [
    "PolyModel().interactive(x_train, y_train,  regularize=None, max_order=50, over_plot=(x_test, y_test), _step=1)"
   ]
  },
  {
   "cell_type": "code",
   "execution_count": 6,
   "metadata": {},
   "outputs": [
    {
     "data": {
      "application/vnd.jupyter.widget-view+json": {
       "model_id": "0fce75a15cd9447cacc8f02f6be75513",
       "version_major": 2,
       "version_minor": 0
      },
      "text/plain": [
       "Output()"
      ]
     },
     "metadata": {},
     "output_type": "display_data"
    },
    {
     "data": {
      "application/vnd.jupyter.widget-view+json": {
       "model_id": "c29cf8f0a5a84632b2c3570cfa6a7794",
       "version_major": 2,
       "version_minor": 0
      },
      "text/plain": [
       "HBox(children=(IntSlider(value=0, continuous_update=False, description='# orders:', layout=Layout(width='90%')…"
      ]
     },
     "metadata": {},
     "output_type": "display_data"
    },
    {
     "data": {
      "application/vnd.jupyter.widget-view+json": {
       "model_id": "03219d3b7e674dbda2c12fda020e961b",
       "version_major": 2,
       "version_minor": 0
      },
      "text/plain": [
       "HBox(children=(IntSlider(value=0, continuous_update=False, description='log lambda', layout=Layout(width='90%'…"
      ]
     },
     "metadata": {},
     "output_type": "display_data"
    }
   ],
   "source": [
    "PolyModel().interactive(x_train, y_train,  regularize='l2', max_order=50, over_plot=(x_test, y_test), _step=1)"
   ]
  },
  {
   "cell_type": "code",
   "execution_count": null,
   "metadata": {},
   "outputs": [],
   "source": []
  }
 ],
 "metadata": {
  "kernelspec": {
   "display_name": "Python 3",
   "language": "python",
   "name": "python3"
  },
  "language_info": {
   "codemirror_mode": {
    "name": "ipython",
    "version": 3
   },
   "file_extension": ".py",
   "mimetype": "text/x-python",
   "name": "python",
   "nbconvert_exporter": "python",
   "pygments_lexer": "ipython3",
   "version": "3.9.9"
  },
  "orig_nbformat": 4,
  "vscode": {
   "interpreter": {
    "hash": "aee8b7b246df8f9039afb4144a1f6fd8d2ca17a180786b69acc140d282b71a49"
   }
  }
 },
 "nbformat": 4,
 "nbformat_minor": 2
}
